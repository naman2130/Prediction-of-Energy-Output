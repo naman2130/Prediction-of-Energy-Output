{
 "cells": [
  {
   "cell_type": "markdown",
   "id": "0145d451",
   "metadata": {},
   "source": [
    "# Importing the libraries"
   ]
  },
  {
   "cell_type": "code",
   "execution_count": 1,
   "id": "464042ac",
   "metadata": {},
   "outputs": [],
   "source": [
    "import pandas as pd\n",
    "import numpy as np\n",
    "import matplotlib.pyplot as plt"
   ]
  },
  {
   "cell_type": "code",
   "execution_count": 2,
   "id": "8ff1b4f8",
   "metadata": {},
   "outputs": [],
   "source": [
    "dataset=pd.read_csv('Data.csv')"
   ]
  },
  {
   "cell_type": "code",
   "execution_count": 3,
   "id": "fb96cccf",
   "metadata": {},
   "outputs": [],
   "source": [
    "X=dataset.iloc[:,:-1].values\n",
    "Y=dataset.iloc[:,-1].values"
   ]
  },
  {
   "cell_type": "code",
   "execution_count": 4,
   "id": "6b712834",
   "metadata": {},
   "outputs": [],
   "source": [
    "r2_values=[]\n",
    "regression_types=[\"Linear\",\"Polynomial\",\"Support Vector\",\"Decision Tree\",\"Random Forest\"]"
   ]
  },
  {
   "cell_type": "markdown",
   "id": "e5bfcd6d",
   "metadata": {},
   "source": [
    "# Dataset split between training set and test set"
   ]
  },
  {
   "cell_type": "code",
   "execution_count": 5,
   "id": "b8cba600",
   "metadata": {},
   "outputs": [],
   "source": [
    "from sklearn.model_selection import train_test_split\n",
    "x_train,x_test,y_train,y_test=train_test_split(X,Y,test_size=0.2,random_state=0)"
   ]
  },
  {
   "cell_type": "markdown",
   "id": "f5df98d4",
   "metadata": {},
   "source": [
    "# Multiple Linear Regression"
   ]
  },
  {
   "cell_type": "code",
   "execution_count": 6,
   "id": "b4c492e3",
   "metadata": {},
   "outputs": [
    {
     "data": {
      "text/plain": [
       "array([[431.43, 431.23],\n",
       "       [458.56, 460.01],\n",
       "       [462.75, 461.14],\n",
       "       ...,\n",
       "       [469.52, 473.26],\n",
       "       [442.42, 438.  ],\n",
       "       [461.88, 463.28]])"
      ]
     },
     "execution_count": 6,
     "metadata": {},
     "output_type": "execute_result"
    }
   ],
   "source": [
    "from sklearn.linear_model import LinearRegression\n",
    "regressor=LinearRegression()\n",
    "regressor.fit(x_train,y_train)\n",
    "\n",
    "y_pred=regressor.predict(x_test)\n",
    "np.set_printoptions(precision=2)\n",
    "np.concatenate((y_pred.reshape(len(y_pred),1),y_test.reshape(len(y_test),1)),1)"
   ]
  },
  {
   "cell_type": "code",
   "execution_count": 7,
   "id": "c6298709",
   "metadata": {},
   "outputs": [],
   "source": [
    "from sklearn.metrics import r2_score\n",
    "r2_values.append(r2_score(y_test, y_pred))"
   ]
  },
  {
   "cell_type": "markdown",
   "id": "e4046b7d",
   "metadata": {},
   "source": [
    "# Polynomial Regression"
   ]
  },
  {
   "cell_type": "code",
   "execution_count": 8,
   "id": "15733a5c",
   "metadata": {},
   "outputs": [
    {
     "name": "stdout",
     "output_type": "stream",
     "text": [
      "[[433.94 431.23]\n",
      " [457.9  460.01]\n",
      " [460.52 461.14]\n",
      " ...\n",
      " [469.53 473.26]\n",
      " [438.27 438.  ]\n",
      " [461.67 463.28]]\n"
     ]
    }
   ],
   "source": [
    "from sklearn.preprocessing import PolynomialFeatures\n",
    "from sklearn.linear_model import LinearRegression\n",
    "poly_reg=PolynomialFeatures(degree=4)\n",
    "x_poly=poly_reg.fit_transform(x_train)\n",
    "lin_reg=LinearRegression()\n",
    "lin_reg.fit(x_poly,y_train)\n",
    "\n",
    "y_pred1=lin_reg.predict(poly_reg.transform(x_test))\n",
    "print(np.concatenate((y_pred1.reshape(len(y_pred1),1), y_test.reshape(len(y_test),1)),1))"
   ]
  },
  {
   "cell_type": "code",
   "execution_count": 9,
   "id": "ff022025",
   "metadata": {},
   "outputs": [],
   "source": [
    "from sklearn.metrics import r2_score\n",
    "r2_values.append(r2_score(y_test,y_pred1))"
   ]
  },
  {
   "cell_type": "markdown",
   "id": "0bba642b",
   "metadata": {},
   "source": [
    "# Support Vector Regression(SVM)"
   ]
  },
  {
   "cell_type": "markdown",
   "id": "622a6c29",
   "metadata": {},
   "source": [
    "Feature Scaling to avoid dominance of any one feature over another"
   ]
  },
  {
   "cell_type": "code",
   "execution_count": 10,
   "id": "8033e98b",
   "metadata": {},
   "outputs": [],
   "source": [
    "from sklearn.preprocessing import StandardScaler\n",
    "sc_X=StandardScaler()\n",
    "x_scaled=sc_X.fit_transform(x_train)\n",
    "sc_Y=StandardScaler()\n",
    "y_scaled=sc_Y.fit_transform(y_train.reshape(len(y_train),1))"
   ]
  },
  {
   "cell_type": "code",
   "execution_count": 11,
   "id": "d3ba6a37",
   "metadata": {},
   "outputs": [
    {
     "name": "stderr",
     "output_type": "stream",
     "text": [
      "C:\\Users\\OMEN\\anaconda3\\lib\\site-packages\\sklearn\\utils\\validation.py:63: DataConversionWarning: A column-vector y was passed when a 1d array was expected. Please change the shape of y to (n_samples, ), for example using ravel().\n",
      "  return f(*args, **kwargs)\n"
     ]
    },
    {
     "data": {
      "text/plain": [
       "array([[434.05, 431.23],\n",
       "       [457.94, 460.01],\n",
       "       [461.03, 461.14],\n",
       "       ...,\n",
       "       [470.6 , 473.26],\n",
       "       [439.42, 438.  ],\n",
       "       [460.92, 463.28]])"
      ]
     },
     "execution_count": 11,
     "metadata": {},
     "output_type": "execute_result"
    }
   ],
   "source": [
    "from sklearn.svm import SVR\n",
    "reg=SVR(kernel='rbf')\n",
    "reg.fit(x_scaled,y_scaled)\n",
    "\n",
    "y_pred2=sc_Y.inverse_transform(reg.predict(sc_X.transform(x_test)))\n",
    "np.concatenate((y_pred2.reshape(len(y_pred2),1),y_test.reshape(len(y_test),1)),1)"
   ]
  },
  {
   "cell_type": "code",
   "execution_count": 12,
   "id": "e55e6ba2",
   "metadata": {},
   "outputs": [],
   "source": [
    "from sklearn.metrics import r2_score\n",
    "r2_values.append(r2_score(y_test,y_pred2))"
   ]
  },
  {
   "cell_type": "markdown",
   "id": "bc5e3cbc",
   "metadata": {},
   "source": [
    "# Decision Tree Regression"
   ]
  },
  {
   "cell_type": "code",
   "execution_count": 13,
   "id": "28b3a10d",
   "metadata": {},
   "outputs": [
    {
     "data": {
      "text/plain": [
       "array([[431.28, 431.23],\n",
       "       [459.59, 460.01],\n",
       "       [460.06, 461.14],\n",
       "       ...,\n",
       "       [471.46, 473.26],\n",
       "       [437.76, 438.  ],\n",
       "       [462.74, 463.28]])"
      ]
     },
     "execution_count": 13,
     "metadata": {},
     "output_type": "execute_result"
    }
   ],
   "source": [
    "from sklearn.tree import DecisionTreeRegressor\n",
    "dtr_reg=DecisionTreeRegressor(random_state=0)\n",
    "dtr_reg.fit(x_train,y_train)\n",
    "\n",
    "y_pred3=dtr_reg.predict(x_test)\n",
    "np.concatenate((y_pred3.reshape(len(y_pred3),1),y_test.reshape(len(y_test),1)),1)"
   ]
  },
  {
   "cell_type": "code",
   "execution_count": 14,
   "id": "bbaddb7e",
   "metadata": {},
   "outputs": [],
   "source": [
    "from sklearn.metrics import r2_score\n",
    "r2_values.append(r2_score(y_test,y_pred3))"
   ]
  },
  {
   "cell_type": "markdown",
   "id": "56828dcb",
   "metadata": {},
   "source": [
    "# Random Forest Regression"
   ]
  },
  {
   "cell_type": "code",
   "execution_count": 15,
   "id": "ff0a365e",
   "metadata": {},
   "outputs": [
    {
     "name": "stdout",
     "output_type": "stream",
     "text": [
      "[[434.05 431.23]\n",
      " [458.79 460.01]\n",
      " [463.02 461.14]\n",
      " ...\n",
      " [469.48 473.26]\n",
      " [439.57 438.  ]\n",
      " [460.38 463.28]]\n"
     ]
    }
   ],
   "source": [
    "from sklearn.ensemble import RandomForestRegressor\n",
    "rfr_reg=RandomForestRegressor(n_estimators=10,random_state=0)\n",
    "rfr_reg.fit(x_train,y_train)\n",
    "\n",
    "y_pred4=rfr_reg.predict(x_test)\n",
    "print(np.concatenate((y_pred4.reshape(len(y_pred4),1), y_test.reshape(len(y_test),1)),1))"
   ]
  },
  {
   "cell_type": "code",
   "execution_count": 16,
   "id": "dfd0275b",
   "metadata": {},
   "outputs": [
    {
     "name": "stdout",
     "output_type": "stream",
     "text": [
      "[0.9325315554761303, 0.9458193275327722, 0.948078404998626, 0.922905874177941, 0.9615908334363876]\n"
     ]
    }
   ],
   "source": [
    "from sklearn.metrics import r2_score\n",
    "r2_values.append(r2_score(y_test,y_pred4))\n",
    "print(r2_values)"
   ]
  },
  {
   "cell_type": "code",
   "execution_count": 22,
   "id": "579bb316",
   "metadata": {},
   "outputs": [
    {
     "data": {
      "image/png": "[encoded data removed]",
      "text/plain": [
       "<Figure size 432x288 with 1 Axes>"
      ]
     },
     "metadata": {
      "needs_background": "light"
     },
     "output_type": "display_data"
    }
   ],
   "source": [
    "plt.bar(regression_types,r2_values,width=0.4)\n",
    "plt.yscale(\"log\")\n",
    "plt.tick_params(axis='x', which='major', labelsize=8)\n",
    "plt.xlabel(\"\\n Types of Regression\")\n",
    "plt.ylabel(\"Log of R-square values\")\n",
    "plt.title(\"Performance of different types of regression on the dataset \\n\")\n",
    "plt.show()"
   ]
  },
  {
   "cell_type": "code",
   "execution_count": null,
   "id": "649dfc31",
   "metadata": {},
   "outputs": [],
   "source": []
  }
 ],
 "metadata": {
  "kernelspec": {
   "display_name": "Python 3 (ipykernel)",
   "language": "python",
   "name": "python3"
  },
  "language_info": {
   "codemirror_mode": {
    "name": "ipython",
    "version": 3
   },
   "file_extension": ".py",
   "mimetype": "text/x-python",
   "name": "python",
   "nbconvert_exporter": "python",
   "pygments_lexer": "ipython3",
   "version": "3.9.7"
  }
 },
 "nbformat": 4,
 "nbformat_minor": 5
}
